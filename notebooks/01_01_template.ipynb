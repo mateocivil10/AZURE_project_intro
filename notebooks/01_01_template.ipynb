{
 "cells": [
  {
   "cell_type": "markdown",
   "metadata": {
    "application/vnd.databricks.v1+cell": {
     "cellMetadata": {},
     "inputWidgets": {},
     "nuid": "44b0675f-97ca-474f-bf6e-04f055f9535d",
     "showTitle": false,
     "title": ""
    }
   },
   "source": [
    "# Setup notebooks"
   ]
  },
  {
   "cell_type": "code",
   "execution_count": 0,
   "metadata": {
    "application/vnd.databricks.v1+cell": {
     "cellMetadata": {},
     "inputWidgets": {},
     "nuid": "edd2fd38-df6e-4a85-a1f4-a9206c9f2d5a",
     "showTitle": false,
     "title": ""
    }
   },
   "outputs": [],
   "source": []
  },
  {
   "cell_type": "markdown",
   "metadata": {
    "application/vnd.databricks.v1+cell": {
     "cellMetadata": {},
     "inputWidgets": {},
     "nuid": "8c9c5449-b687-4560-bdd7-caa327cc7d97",
     "showTitle": false,
     "title": ""
    }
   },
   "source": [
    "### General libraries"
   ]
  },
  {
   "cell_type": "code",
   "execution_count": 0,
   "metadata": {
    "application/vnd.databricks.v1+cell": {
     "cellMetadata": {
      "byteLimit": 2048000,
      "rowLimit": 10000
     },
     "inputWidgets": {},
     "nuid": "1919d3e2-437d-4668-9db0-3cbcfdbab707",
     "showTitle": false,
     "title": ""
    }
   },
   "outputs": [],
   "source": [
    "import os\n",
    "import sys\n",
    "import numpy as np\n",
    "import pandas as pd\n",
    "\n",
    "from os.path import join\n",
    "\n",
    "pd.set_option(\"display.max_columns\", None)\n",
    "pd.options.display.float_format = '{:,.2f}'.format"
   ]
  },
  {
   "cell_type": "markdown",
   "metadata": {
    "application/vnd.databricks.v1+cell": {
     "cellMetadata": {},
     "inputWidgets": {},
     "nuid": "cb050edd-e28a-4a8d-8163-fe4b1b44189b",
     "showTitle": false,
     "title": ""
    }
   },
   "source": [
    "### Specific libraries"
   ]
  },
  {
   "cell_type": "code",
   "execution_count": 0,
   "metadata": {
    "application/vnd.databricks.v1+cell": {
     "cellMetadata": {
      "byteLimit": 2048000,
      "rowLimit": 10000
     },
     "inputWidgets": {},
     "nuid": "46be3f97-f939-4d23-a1c3-af9a12fb9054",
     "showTitle": false,
     "title": ""
    }
   },
   "outputs": [],
   "source": [
    "from pyspark.sql import SparkSession\n",
    "\n",
    "# Configura los detalles de conexión\n",
    "server = 'first-server-mateo.database.windows.net'\n",
    "database = 'ml-concept1'\n",
    "username = 'MLmodels1'\n",
    "password = 'S3rgioC@ro123'\n",
    "jdbc_url = f\"jdbc:sqlserver://{server};databaseName={database};user={username};password={password}\"\n",
    "\n",
    "# Crea una instancia de SparkSession\n",
    "spark = SparkSession.builder \\\n",
    "    .appName(\"Load SQL Server Data\") \\\n",
    "    .getOrCreate()\n",
    "\n",
    "# Lee los datos de la tabla \"Cars\" en un DataFrame de Spark\n",
    "df = spark.read.format(\"jdbc\").options(\n",
    "    url=jdbc_url,\n",
    "    database=database,\n",
    "    driver=\"com.microsoft.sqlserver.jdbc.SQLServerDriver\",\n",
    "    dbtable=\"Cars\"\n",
    ").load()\n",
    "\n",
    "# Muestra los primeros registros del DataFrame\n",
    "df.show()"
   ]
  }
 ],
 "metadata": {
  "application/vnd.databricks.v1+notebook": {
   "dashboards": [],
   "language": "python",
   "notebookMetadata": {
    "pythonIndentUnit": 4
   },
   "notebookName": "01_01_template",
   "widgets": {}
  },
  "kernelspec": {
   "display_name": "Python 3 (ipykernel)",
   "language": "python",
   "name": "python3"
  },
  "language_info": {
   "codemirror_mode": {
    "name": "ipython",
    "version": 3
   },
   "file_extension": ".py",
   "mimetype": "text/x-python",
   "name": "python",
   "nbconvert_exporter": "python",
   "pygments_lexer": "ipython3",
   "version": "3.9.16"
  }
 },
 "nbformat": 4,
 "nbformat_minor": 0
}
